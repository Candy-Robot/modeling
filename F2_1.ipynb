{
 "cells": [
  {
   "cell_type": "code",
   "execution_count": 9,
   "metadata": {},
   "outputs": [
    {
     "data": {
      "text/html": [
       "<div>\n",
       "<style scoped>\n",
       "    .dataframe tbody tr th:only-of-type {\n",
       "        vertical-align: middle;\n",
       "    }\n",
       "\n",
       "    .dataframe tbody tr th {\n",
       "        vertical-align: top;\n",
       "    }\n",
       "\n",
       "    .dataframe thead th {\n",
       "        text-align: right;\n",
       "    }\n",
       "</style>\n",
       "<table border=\"1\" class=\"dataframe\">\n",
       "  <thead>\n",
       "    <tr style=\"text-align: right;\">\n",
       "      <th></th>\n",
       "      <th>区域名称</th>\n",
       "      <th>隔离人口数（万人）</th>\n",
       "      <th>生活物资投放点数量</th>\n",
       "    </tr>\n",
       "  </thead>\n",
       "  <tbody>\n",
       "    <tr>\n",
       "      <th>0</th>\n",
       "      <td>朝阳区</td>\n",
       "      <td>57.8</td>\n",
       "      <td>94</td>\n",
       "    </tr>\n",
       "    <tr>\n",
       "      <th>1</th>\n",
       "      <td>南关区</td>\n",
       "      <td>48.9</td>\n",
       "      <td>261</td>\n",
       "    </tr>\n",
       "    <tr>\n",
       "      <th>2</th>\n",
       "      <td>宽城区</td>\n",
       "      <td>32.6</td>\n",
       "      <td>181</td>\n",
       "    </tr>\n",
       "    <tr>\n",
       "      <th>3</th>\n",
       "      <td>绿园区</td>\n",
       "      <td>38.5</td>\n",
       "      <td>470</td>\n",
       "    </tr>\n",
       "    <tr>\n",
       "      <th>4</th>\n",
       "      <td>二道区</td>\n",
       "      <td>42.6</td>\n",
       "      <td>9</td>\n",
       "    </tr>\n",
       "    <tr>\n",
       "      <th>5</th>\n",
       "      <td>长春新区(高新)</td>\n",
       "      <td>36.8</td>\n",
       "      <td>215</td>\n",
       "    </tr>\n",
       "    <tr>\n",
       "      <th>6</th>\n",
       "      <td>经开区</td>\n",
       "      <td>20.3</td>\n",
       "      <td>37</td>\n",
       "    </tr>\n",
       "    <tr>\n",
       "      <th>7</th>\n",
       "      <td>净月区</td>\n",
       "      <td>22.8</td>\n",
       "      <td>279</td>\n",
       "    </tr>\n",
       "    <tr>\n",
       "      <th>8</th>\n",
       "      <td>汽开区</td>\n",
       "      <td>21.7</td>\n",
       "      <td>10</td>\n",
       "    </tr>\n",
       "  </tbody>\n",
       "</table>\n",
       "</div>"
      ],
      "text/plain": [
       "       区域名称  隔离人口数（万人）  生活物资投放点数量\n",
       "0       朝阳区       57.8         94\n",
       "1       南关区       48.9        261\n",
       "2       宽城区       32.6        181\n",
       "3       绿园区       38.5        470\n",
       "4       二道区       42.6          9\n",
       "5  长春新区(高新)       36.8        215\n",
       "6       经开区       20.3         37\n",
       "7       净月区       22.8        279\n",
       "8       汽开区       21.7         10"
      ]
     },
     "execution_count": 9,
     "metadata": {},
     "output_type": "execute_result"
    }
   ],
   "source": [
    "import pandas as pd\n",
    "file = \"data/excel2.xlsx\"\n",
    "data_excel = pd.read_excel(file)\n",
    "data_excel"
   ]
  },
  {
   "cell_type": "code",
   "execution_count": 10,
   "metadata": {},
   "outputs": [
    {
     "data": {
      "text/plain": [
       "<AxesSubplot:>"
      ]
     },
     "execution_count": 10,
     "metadata": {},
     "output_type": "execute_result"
    },
    {
     "name": "stderr",
     "output_type": "stream",
     "text": [
      "findfont: Font family ['sans-serif'] not found. Falling back to DejaVu Sans.\n",
      "findfont: Generic family 'sans-serif' not found because none of the following families were found: SimHei\n",
      "/Users/candy/anaconda3/envs/modeling2/lib/python3.7/site-packages/IPython/core/events.py:89: UserWarning: Glyph 38548 (\\N{CJK UNIFIED IDEOGRAPH-9694}) missing from current font.\n",
      "  func(*args, **kwargs)\n",
      "/Users/candy/anaconda3/envs/modeling2/lib/python3.7/site-packages/IPython/core/events.py:89: UserWarning: Glyph 31163 (\\N{CJK UNIFIED IDEOGRAPH-79BB}) missing from current font.\n",
      "  func(*args, **kwargs)\n",
      "/Users/candy/anaconda3/envs/modeling2/lib/python3.7/site-packages/IPython/core/events.py:89: UserWarning: Glyph 20154 (\\N{CJK UNIFIED IDEOGRAPH-4EBA}) missing from current font.\n",
      "  func(*args, **kwargs)\n",
      "/Users/candy/anaconda3/envs/modeling2/lib/python3.7/site-packages/IPython/core/events.py:89: UserWarning: Glyph 21475 (\\N{CJK UNIFIED IDEOGRAPH-53E3}) missing from current font.\n",
      "  func(*args, **kwargs)\n",
      "/Users/candy/anaconda3/envs/modeling2/lib/python3.7/site-packages/IPython/core/events.py:89: UserWarning: Glyph 25968 (\\N{CJK UNIFIED IDEOGRAPH-6570}) missing from current font.\n",
      "  func(*args, **kwargs)\n",
      "/Users/candy/anaconda3/envs/modeling2/lib/python3.7/site-packages/IPython/core/events.py:89: UserWarning: Glyph 65288 (\\N{FULLWIDTH LEFT PARENTHESIS}) missing from current font.\n",
      "  func(*args, **kwargs)\n",
      "/Users/candy/anaconda3/envs/modeling2/lib/python3.7/site-packages/IPython/core/events.py:89: UserWarning: Glyph 19975 (\\N{CJK UNIFIED IDEOGRAPH-4E07}) missing from current font.\n",
      "  func(*args, **kwargs)\n",
      "/Users/candy/anaconda3/envs/modeling2/lib/python3.7/site-packages/IPython/core/events.py:89: UserWarning: Glyph 65289 (\\N{FULLWIDTH RIGHT PARENTHESIS}) missing from current font.\n",
      "  func(*args, **kwargs)\n",
      "/Users/candy/anaconda3/envs/modeling2/lib/python3.7/site-packages/IPython/core/events.py:89: UserWarning: Glyph 29983 (\\N{CJK UNIFIED IDEOGRAPH-751F}) missing from current font.\n",
      "  func(*args, **kwargs)\n",
      "/Users/candy/anaconda3/envs/modeling2/lib/python3.7/site-packages/IPython/core/events.py:89: UserWarning: Glyph 27963 (\\N{CJK UNIFIED IDEOGRAPH-6D3B}) missing from current font.\n",
      "  func(*args, **kwargs)\n",
      "/Users/candy/anaconda3/envs/modeling2/lib/python3.7/site-packages/IPython/core/events.py:89: UserWarning: Glyph 29289 (\\N{CJK UNIFIED IDEOGRAPH-7269}) missing from current font.\n",
      "  func(*args, **kwargs)\n",
      "/Users/candy/anaconda3/envs/modeling2/lib/python3.7/site-packages/IPython/core/events.py:89: UserWarning: Glyph 36164 (\\N{CJK UNIFIED IDEOGRAPH-8D44}) missing from current font.\n",
      "  func(*args, **kwargs)\n",
      "/Users/candy/anaconda3/envs/modeling2/lib/python3.7/site-packages/IPython/core/events.py:89: UserWarning: Glyph 25237 (\\N{CJK UNIFIED IDEOGRAPH-6295}) missing from current font.\n",
      "  func(*args, **kwargs)\n",
      "/Users/candy/anaconda3/envs/modeling2/lib/python3.7/site-packages/IPython/core/events.py:89: UserWarning: Glyph 25918 (\\N{CJK UNIFIED IDEOGRAPH-653E}) missing from current font.\n",
      "  func(*args, **kwargs)\n",
      "/Users/candy/anaconda3/envs/modeling2/lib/python3.7/site-packages/IPython/core/events.py:89: UserWarning: Glyph 28857 (\\N{CJK UNIFIED IDEOGRAPH-70B9}) missing from current font.\n",
      "  func(*args, **kwargs)\n",
      "/Users/candy/anaconda3/envs/modeling2/lib/python3.7/site-packages/IPython/core/events.py:89: UserWarning: Glyph 37327 (\\N{CJK UNIFIED IDEOGRAPH-91CF}) missing from current font.\n",
      "  func(*args, **kwargs)\n",
      "/Users/candy/anaconda3/envs/modeling2/lib/python3.7/site-packages/IPython/core/pylabtools.py:151: UserWarning: Glyph 38548 (\\N{CJK UNIFIED IDEOGRAPH-9694}) missing from current font.\n",
      "  fig.canvas.print_figure(bytes_io, **kw)\n",
      "/Users/candy/anaconda3/envs/modeling2/lib/python3.7/site-packages/IPython/core/pylabtools.py:151: UserWarning: Glyph 31163 (\\N{CJK UNIFIED IDEOGRAPH-79BB}) missing from current font.\n",
      "  fig.canvas.print_figure(bytes_io, **kw)\n",
      "/Users/candy/anaconda3/envs/modeling2/lib/python3.7/site-packages/IPython/core/pylabtools.py:151: UserWarning: Glyph 20154 (\\N{CJK UNIFIED IDEOGRAPH-4EBA}) missing from current font.\n",
      "  fig.canvas.print_figure(bytes_io, **kw)\n",
      "/Users/candy/anaconda3/envs/modeling2/lib/python3.7/site-packages/IPython/core/pylabtools.py:151: UserWarning: Glyph 21475 (\\N{CJK UNIFIED IDEOGRAPH-53E3}) missing from current font.\n",
      "  fig.canvas.print_figure(bytes_io, **kw)\n",
      "/Users/candy/anaconda3/envs/modeling2/lib/python3.7/site-packages/IPython/core/pylabtools.py:151: UserWarning: Glyph 25968 (\\N{CJK UNIFIED IDEOGRAPH-6570}) missing from current font.\n",
      "  fig.canvas.print_figure(bytes_io, **kw)\n",
      "/Users/candy/anaconda3/envs/modeling2/lib/python3.7/site-packages/IPython/core/pylabtools.py:151: UserWarning: Glyph 65288 (\\N{FULLWIDTH LEFT PARENTHESIS}) missing from current font.\n",
      "  fig.canvas.print_figure(bytes_io, **kw)\n",
      "/Users/candy/anaconda3/envs/modeling2/lib/python3.7/site-packages/IPython/core/pylabtools.py:151: UserWarning: Glyph 19975 (\\N{CJK UNIFIED IDEOGRAPH-4E07}) missing from current font.\n",
      "  fig.canvas.print_figure(bytes_io, **kw)\n",
      "/Users/candy/anaconda3/envs/modeling2/lib/python3.7/site-packages/IPython/core/pylabtools.py:151: UserWarning: Glyph 65289 (\\N{FULLWIDTH RIGHT PARENTHESIS}) missing from current font.\n",
      "  fig.canvas.print_figure(bytes_io, **kw)\n",
      "/Users/candy/anaconda3/envs/modeling2/lib/python3.7/site-packages/IPython/core/pylabtools.py:151: UserWarning: Glyph 29983 (\\N{CJK UNIFIED IDEOGRAPH-751F}) missing from current font.\n",
      "  fig.canvas.print_figure(bytes_io, **kw)\n",
      "/Users/candy/anaconda3/envs/modeling2/lib/python3.7/site-packages/IPython/core/pylabtools.py:151: UserWarning: Glyph 27963 (\\N{CJK UNIFIED IDEOGRAPH-6D3B}) missing from current font.\n",
      "  fig.canvas.print_figure(bytes_io, **kw)\n",
      "/Users/candy/anaconda3/envs/modeling2/lib/python3.7/site-packages/IPython/core/pylabtools.py:151: UserWarning: Glyph 29289 (\\N{CJK UNIFIED IDEOGRAPH-7269}) missing from current font.\n",
      "  fig.canvas.print_figure(bytes_io, **kw)\n",
      "/Users/candy/anaconda3/envs/modeling2/lib/python3.7/site-packages/IPython/core/pylabtools.py:151: UserWarning: Glyph 36164 (\\N{CJK UNIFIED IDEOGRAPH-8D44}) missing from current font.\n",
      "  fig.canvas.print_figure(bytes_io, **kw)\n",
      "/Users/candy/anaconda3/envs/modeling2/lib/python3.7/site-packages/IPython/core/pylabtools.py:151: UserWarning: Glyph 25237 (\\N{CJK UNIFIED IDEOGRAPH-6295}) missing from current font.\n",
      "  fig.canvas.print_figure(bytes_io, **kw)\n",
      "/Users/candy/anaconda3/envs/modeling2/lib/python3.7/site-packages/IPython/core/pylabtools.py:151: UserWarning: Glyph 25918 (\\N{CJK UNIFIED IDEOGRAPH-653E}) missing from current font.\n",
      "  fig.canvas.print_figure(bytes_io, **kw)\n",
      "/Users/candy/anaconda3/envs/modeling2/lib/python3.7/site-packages/IPython/core/pylabtools.py:151: UserWarning: Glyph 28857 (\\N{CJK UNIFIED IDEOGRAPH-70B9}) missing from current font.\n",
      "  fig.canvas.print_figure(bytes_io, **kw)\n",
      "/Users/candy/anaconda3/envs/modeling2/lib/python3.7/site-packages/IPython/core/pylabtools.py:151: UserWarning: Glyph 37327 (\\N{CJK UNIFIED IDEOGRAPH-91CF}) missing from current font.\n",
      "  fig.canvas.print_figure(bytes_io, **kw)\n"
     ]
    },
    {
     "data": {
      "image/png": "[encoded data removed]",
      "text/plain": [
       "<Figure size 640x480 with 1 Axes>"
      ]
     },
     "metadata": {},
     "output_type": "display_data"
    }
   ],
   "source": [
    "import matplotlib.pyplot as plt\n",
    "plt.rcParams['font.sans-serif'] = ['SimHei']  # 用来正常显示中文标签\n",
    "plt.rcParams['axes.unicode_minus'] = False  # 用来正常显示负号\n",
    "data_excel.plot.bar()"
   ]
  },
  {
   "cell_type": "code",
   "execution_count": null,
   "metadata": {},
   "outputs": [],
   "source": []
  }
 ],
 "metadata": {
  "kernelspec": {
   "display_name": "Python 3.7.13 ('modeling2')",
   "language": "python",
   "name": "python3"
  },
  "language_info": {
   "codemirror_mode": {
    "name": "ipython",
    "version": 3
   },
   "file_extension": ".py",
   "mimetype": "text/x-python",
   "name": "python",
   "nbconvert_exporter": "python",
   "pygments_lexer": "ipython3",
   "version": "3.7.13"
  },
  "orig_nbformat": 4,
  "vscode": {
   "interpreter": {
    "hash": "a19c3e4bd69622bbce6442a60adff90e29a4a78c6a922f6bd74505dacfc0e163"
   }
  }
 },
 "nbformat": 4,
 "nbformat_minor": 2
}
